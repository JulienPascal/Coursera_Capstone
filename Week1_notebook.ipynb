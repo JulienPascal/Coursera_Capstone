{
 "cells": [
  {
   "cell_type": "markdown",
   "metadata": {},
   "source": [
    "# Coursera Capstone\n",
    "\n",
    "## Week 1\n",
    "\n",
    "\n",
    "### Instructions\n",
    "\n",
    "* Write some markdown to explain that this notebook will be mainly used for the capstone project.\n",
    "* Import the pandas library as pd.\n",
    "* Import the Numpy library as np.\n",
    "* Print the following the statement: Hello Capstone Project Course!\n",
    "\n",
    "###  My answer\n",
    "\n",
    "This notebook will be used for the capstone projet of the [IBM Data Science Professional Certificate](https://www.coursera.org/professional-certificates/ibm-data-science)"
   ]
  },
  {
   "cell_type": "code",
   "execution_count": 2,
   "metadata": {},
   "outputs": [
    {
     "name": "stdout",
     "output_type": "stream",
     "text": [
      "Hello Capstone Project Course!\n"
     ]
    }
   ],
   "source": [
    "import pandas as pd\n",
    "import numpy as np\n",
    "print(\"Hello Capstone Project Course!\")"
   ]
  }
 ],
 "metadata": {
  "kernelspec": {
   "display_name": "Python 3",
   "language": "python",
   "name": "python3"
  },
  "language_info": {
   "codemirror_mode": {
    "name": "ipython",
    "version": 3
   },
   "file_extension": ".py",
   "mimetype": "text/x-python",
   "name": "python",
   "nbconvert_exporter": "python",
   "pygments_lexer": "ipython3",
   "version": "3.5.2"
  }
 },
 "nbformat": 4,
 "nbformat_minor": 2
}
