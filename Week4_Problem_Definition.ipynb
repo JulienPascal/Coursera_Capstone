{
 "cells": [
  {
   "cell_type": "markdown",
   "metadata": {},
   "source": [
    "# Capstone Project - The Battle of Neighborhoods\n",
    "\n",
    "## Where to live in Paris?"
   ]
  },
  {
   "cell_type": "markdown",
   "metadata": {},
   "source": [
    "![alt text](paris-cityscape-overview-guide.jpg)"
   ]
  },
  {
   "cell_type": "markdown",
   "metadata": {},
   "source": [
    "## I. Introduction"
   ]
  },
  {
   "cell_type": "markdown",
   "metadata": {},
   "source": [
    "Paris is a vibrant and complex city. For someone who has not been living in Paris for many years, the city may look impenetrable. Which neighborhoods are great for a coffee? Which neighborhoods are famous for its markets? Where are located the best bars? When confronted with these questions, tourists and new residents generally use a guide or use websites such as Yelp or Tripadvisor. My experience with these platforms has often been disappointing because the website (or the guide) is not tailored to my tastes and preferences. For this capstone project, I would like to offer an alternative based on data mining and clustering. \n",
    "\n",
    "Data on Paris neighborhoods amenities (bars, cafés, museums, bakeries, etc.) can easily be collected and treated to generate a map of Paris. Based on the user's preferences, we can direct the user towards a specific neighborhood in Paris. This approach can be seen as a refinement of the traditional tourism websites, with the addition of a data-driven customization layer. Having a data-driven map of Paris is also helpful for people moving to Paris when deciding where to live. The French capital is extremely expensive. Yes, [the Marais](https://en.wikipedia.org/wiki/The_Marais) is great, but maybe you prefer living in the much cheaper 19th or 20th? To answer this question, we need data and a robust clustering methodology."
   ]
  },
  {
   "cell_type": "markdown",
   "metadata": {},
   "source": [
    "## II. Data"
   ]
  },
  {
   "cell_type": "markdown",
   "metadata": {},
   "source": [
    "To create a data-driven map of Paris' neighborhoods, I will data from [Foursquare API](https://developer.foursquare.com/). Foursquare defines itself as \"a location technology platform dedicated to improving how people move through the real world\".\n",
    "\n",
    "In practice, people use Foursquare [platform](https://foursquare.com/bestbarsuk) or app to find places. They can then rate the place, give a rating, add photos and/or a description. The Foursquare API allows us the retrieve the data that was created by users. \n",
    "\n",
    "I will also use data from Wikipedia to get information on Paris. This [page](https://en.wikipedia.org/wiki/Arrondissements_of_Paris) contains the name of Paris areas (\"arrondissements\"), as well as some basic information such as area and population. "
   ]
  },
  {
   "cell_type": "markdown",
   "metadata": {},
   "source": [
    "## III. Preview of Paris"
   ]
  },
  {
   "cell_type": "markdown",
   "metadata": {},
   "source": [
    "As a proof of concept, below I generate a map of Paris using **folium**."
   ]
  },
  {
   "cell_type": "code",
   "execution_count": 35,
   "metadata": {
    "scrolled": true
   },
   "outputs": [
    {
     "name": "stdout",
     "output_type": "stream",
     "text": [
      "Libraries imported.\n"
     ]
    }
   ],
   "source": [
    "import numpy as np # library to handle data in a vectorized manner\n",
    "\n",
    "import pandas as pd # library for data analsysis\n",
    "pd.set_option('display.max_columns', None)\n",
    "pd.set_option('display.max_rows', None)\n",
    "\n",
    "import json # library to handle JSON files\n",
    "\n",
    "#!conda install -c conda-forge geopy --yes # uncomment this line if you haven't completed the Foursquare API lab\n",
    "from geopy.geocoders import Nominatim # convert an address into latitude and longitude values\n",
    "\n",
    "import requests # library to handle requests\n",
    "from pandas.io.json import json_normalize # tranform JSON file into a pandas dataframe\n",
    "\n",
    "# Matplotlib and associated plotting modules\n",
    "import matplotlib.cm as cm\n",
    "import matplotlib.colors as colors\n",
    "\n",
    "# import k-means from clustering stage\n",
    "from sklearn.cluster import KMeans\n",
    "\n",
    "#!conda install -c conda-forge folium=0.5.0 --yes # uncomment this line if you haven't completed the Foursquare API lab\n",
    "import folium # map rendering library\n",
    "import time\n",
    "\n",
    "print('Libraries imported.')"
   ]
  },
  {
   "cell_type": "code",
   "execution_count": 36,
   "metadata": {},
   "outputs": [
    {
     "name": "stdout",
     "output_type": "stream",
     "text": [
      "The geograpical coordinate of Paris are 48.8566969, 2.3514616.\n"
     ]
    }
   ],
   "source": [
    "address = 'Paris, France'\n",
    "\n",
    "geolocator = Nominatim(user_agent=\"paris_explorer\")\n",
    "location = geolocator.geocode(address)\n",
    "latitude = location.latitude\n",
    "longitude = location.longitude\n",
    "print('The geograpical coordinate of Paris are {}, {}.'.format(latitude, longitude))"
   ]
  },
  {
   "cell_type": "code",
   "execution_count": 37,
   "metadata": {
    "scrolled": false
   },
   "outputs": [
    {
     "data": {
      "text/html": [
       "<div style=\"width:100%;\"><div style=\"position:relative;width:100%;height:0;padding-bottom:60%;\"><iframe src=\"about:blank\" style=\"position:absolute;width:100%;height:100%;left:0;top:0;border:none !important;\" data-html=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 onload=\"this.contentDocument.open();this.contentDocument.write(atob(this.getAttribute('data-html')));this.contentDocument.close();\" allowfullscreen webkitallowfullscreen mozallowfullscreen></iframe></div></div>"
      ],
      "text/plain": [
       "<folium.folium.Map at 0x7ff2fb977710>"
      ]
     },
     "execution_count": 37,
     "metadata": {},
     "output_type": "execute_result"
    }
   ],
   "source": [
    "# create map of New York using latitude and longitude values\n",
    "map_paris = folium.Map(location=[latitude, longitude], zoom_start=12)\n",
    "\n",
    "map_paris"
   ]
  },
  {
   "cell_type": "markdown",
   "metadata": {},
   "source": [
    "Let's try to add \"arrondissements\" to the map above."
   ]
  },
  {
   "cell_type": "code",
   "execution_count": 38,
   "metadata": {},
   "outputs": [
    {
     "data": {
      "text/html": [
       "<div>\n",
       "<style scoped>\n",
       "    .dataframe tbody tr th:only-of-type {\n",
       "        vertical-align: middle;\n",
       "    }\n",
       "\n",
       "    .dataframe tbody tr th {\n",
       "        vertical-align: top;\n",
       "    }\n",
       "\n",
       "    .dataframe thead th {\n",
       "        text-align: right;\n",
       "    }\n",
       "</style>\n",
       "<table border=\"1\" class=\"dataframe\">\n",
       "  <thead>\n",
       "    <tr style=\"text-align: right;\">\n",
       "      <th></th>\n",
       "      <th>Arrondissement</th>\n",
       "      <th>Name</th>\n",
       "      <th>Area (km2)</th>\n",
       "      <th>Population(March 1999 census)</th>\n",
       "      <th>Population(July 2005 estimate)</th>\n",
       "      <th>Density (2005)(inhabitants per km2)</th>\n",
       "      <th>Peak of population</th>\n",
       "      <th>Mayor</th>\n",
       "    </tr>\n",
       "  </thead>\n",
       "  <tbody>\n",
       "    <tr>\n",
       "      <th>0</th>\n",
       "      <td>1st (Ier) R</td>\n",
       "      <td>Louvre</td>\n",
       "      <td>1.826 km2 (0.705 sq mi)</td>\n",
       "      <td>16888</td>\n",
       "      <td>17700</td>\n",
       "      <td>9693</td>\n",
       "      <td>before 1861</td>\n",
       "      <td>Jean-François Legaret (LR)</td>\n",
       "    </tr>\n",
       "    <tr>\n",
       "      <th>1</th>\n",
       "      <td>2nd (IIe) R</td>\n",
       "      <td>Bourse</td>\n",
       "      <td>0.992 km2 (0.383 sq mi)</td>\n",
       "      <td>19585</td>\n",
       "      <td>20700</td>\n",
       "      <td>20867</td>\n",
       "      <td>before 1861</td>\n",
       "      <td>Jacques Boutault (EELV)</td>\n",
       "    </tr>\n",
       "    <tr>\n",
       "      <th>2</th>\n",
       "      <td>3rd (IIIe) R</td>\n",
       "      <td>Temple</td>\n",
       "      <td>1.171 km2 (0.452 sq mi)</td>\n",
       "      <td>34248</td>\n",
       "      <td>35100</td>\n",
       "      <td>29974</td>\n",
       "      <td>before 1861</td>\n",
       "      <td>Pierre Aidenbaum (PS)</td>\n",
       "    </tr>\n",
       "    <tr>\n",
       "      <th>3</th>\n",
       "      <td>4th (IVe) R</td>\n",
       "      <td>Hôtel-de-Ville</td>\n",
       "      <td>1.601 km2 (0.618 sq mi)</td>\n",
       "      <td>30675</td>\n",
       "      <td>28600</td>\n",
       "      <td>17864</td>\n",
       "      <td>before 1861</td>\n",
       "      <td>Ariel Weil (PS)</td>\n",
       "    </tr>\n",
       "    <tr>\n",
       "      <th>4</th>\n",
       "      <td>5th (Ve) L</td>\n",
       "      <td>Panthéon</td>\n",
       "      <td>2.541 km2 (0.981 sq mi)</td>\n",
       "      <td>58849</td>\n",
       "      <td>60600</td>\n",
       "      <td>23849</td>\n",
       "      <td>1911</td>\n",
       "      <td>Florence Berthout (LR)</td>\n",
       "    </tr>\n",
       "  </tbody>\n",
       "</table>\n",
       "</div>"
      ],
      "text/plain": [
       "  Arrondissement            Name               Area (km2)  \\\n",
       "0    1st (Ier) R          Louvre  1.826 km2 (0.705 sq mi)   \n",
       "1    2nd (IIe) R          Bourse  0.992 km2 (0.383 sq mi)   \n",
       "2   3rd (IIIe) R          Temple  1.171 km2 (0.452 sq mi)   \n",
       "3    4th (IVe) R  Hôtel-de-Ville  1.601 km2 (0.618 sq mi)   \n",
       "4     5th (Ve) L        Panthéon  2.541 km2 (0.981 sq mi)   \n",
       "\n",
       "   Population(March 1999 census)  Population(July 2005 estimate)  \\\n",
       "0                          16888                           17700   \n",
       "1                          19585                           20700   \n",
       "2                          34248                           35100   \n",
       "3                          30675                           28600   \n",
       "4                          58849                           60600   \n",
       "\n",
       "  Density (2005)(inhabitants per km2) Peak of population  \\\n",
       "0                                9693        before 1861   \n",
       "1                               20867        before 1861   \n",
       "2                               29974        before 1861   \n",
       "3                               17864        before 1861   \n",
       "4                               23849               1911   \n",
       "\n",
       "                        Mayor  \n",
       "0  Jean-François Legaret (LR)  \n",
       "1     Jacques Boutault (EELV)  \n",
       "2       Pierre Aidenbaum (PS)  \n",
       "3             Ariel Weil (PS)  \n",
       "4      Florence Berthout (LR)  "
      ]
     },
     "execution_count": 38,
     "metadata": {},
     "output_type": "execute_result"
    }
   ],
   "source": [
    "import pandas as pd\n",
    "import numpy as np\n",
    "\n",
    "link = \"https://en.wikipedia.org/wiki/Arrondissements_of_Paris\"\n",
    "\n",
    "tables = pd.read_html(link, header=0)\n",
    "\n",
    "# read_html creates a list of dataframes.\n",
    "# Let's just take the first one:\n",
    "df = tables[2]\n",
    "\n",
    "# rename the first column:\n",
    "df.rename(columns = {\"Arrondissement (R for Right Bank, L for Left Bank)\" : \"Arrondissement\"}, inplace=True)\n",
    "df.head()"
   ]
  },
  {
   "cell_type": "markdown",
   "metadata": {},
   "source": [
    "Let's geocode the dataframe above:"
   ]
  },
  {
   "cell_type": "code",
   "execution_count": 39,
   "metadata": {},
   "outputs": [],
   "source": [
    "# List to store values\n",
    "Postcode = []\n",
    "Borough = []\n",
    "Neighbourhood = []\n",
    "\n",
    "# Options\n",
    "# Normal sleeping time\n",
    "sleeping_time = 0.1\n",
    "# Sleeping time in case of error\n",
    "sleeping_time_error = 1.0\n",
    "# Max number of attempts (sometimes, we don't get a value)\n",
    "max_nb_attempts = 2"
   ]
  },
  {
   "cell_type": "code",
   "execution_count": 40,
   "metadata": {
    "scrolled": true
   },
   "outputs": [],
   "source": [
    "geolocator = Nominatim(user_agent=\"Coursera_Capstone\")"
   ]
  },
  {
   "cell_type": "code",
   "execution_count": 41,
   "metadata": {
    "scrolled": true
   },
   "outputs": [
    {
     "name": "stdout",
     "output_type": "stream",
     "text": [
      "Louvre, Paris France\n",
      "(48.8611473, 2.33802768704666)\n",
      "Bourse, Paris France\n",
      "(48.8686296, 2.3414739)\n",
      "Temple, Paris France\n",
      "(48.8665004, 2.360708)\n",
      "Hôtel-de-Ville, Paris France\n",
      "(48.856426299999995, 2.3525275780116073)\n",
      "Panthéon, Paris France\n",
      "(48.84619085, 2.346078521905153)\n",
      "Luxembourg, Paris France\n",
      "(48.8493919, 2.3322597335758593)\n",
      "Palais-Bourbon, Paris France\n",
      "(48.86159615, 2.3179092733655935)\n",
      "Élysée, Paris France\n",
      "(48.8466437, 2.3698297)\n",
      "Opéra, Paris France\n",
      "(48.8706446, 2.33233)\n",
      "Entrepôt, Paris France\n",
      "(48.876008049999996, 2.360445036409199)\n",
      "Popincourt, Paris France\n",
      "(48.860071149999996, 2.3781433620616133)\n",
      "Reuilly, Paris France\n",
      "(48.83520025, 2.445135854630304)\n",
      "Gobelins, Paris France\n",
      "(48.82985295, 2.3630259501036406)\n",
      "Observatoire, Paris France\n",
      "(48.8295667, 2.3239624642685364)\n",
      "Vaugirard, Paris France\n",
      "(48.841430200000005, 2.296164933019397)\n",
      "Passy, Paris France\n",
      "(48.8575047, 2.2809828)\n",
      "Batignolles-Monceau, Paris France\n",
      "(48.8813119, 2.3157496)\n",
      "Butte-Montmartre, Paris France\n",
      "(48.89212585, 2.3481775453229785)\n",
      "Buttes-Chaumont, Paris France\n",
      "(48.8783961, 2.3812008)\n",
      "Ménilmontant, Paris France\n",
      "(48.8663246, 2.3836703)\n"
     ]
    }
   ],
   "source": [
    "#Initialization\n",
    "df[\"Latitude\"] = 0\n",
    "df[\"Longitude\"] = 0\n",
    "\n",
    "for index, row in df.iterrows():\n",
    "    # Select the first neighborhood\n",
    "    l =  row[\"Name\"] + \", Paris France\"\n",
    "    print(l)\n",
    "    # Loop until success\n",
    "    current_attempt = 0\n",
    "    while True:\n",
    "        current_attempt +=1 \n",
    "        try:\n",
    "            location = geolocator.geocode(l)\n",
    "            print((location.latitude, location.longitude))\n",
    "        except:\n",
    "            print(\"Error with geolocator.geocode(l)\")\n",
    "            print(\"Sleeping for a while and trying again\")\n",
    "            time.sleep(sleeping_time_error)      \n",
    "        # Sleep for some time to prevent us being blocked:\n",
    "        if location is not None:\n",
    "            time.sleep(sleeping_time)\n",
    "            df.loc[index, \"Latitude\"] = location.latitude\n",
    "            df.loc[index, \"Longitude\"] = location.longitude\n",
    "            # exit while loop\n",
    "            break\n",
    "        # If error, sleep a little bit longer\n",
    "        else:\n",
    "            print(\"Sleeping for a while and trying again\")\n",
    "            time.sleep(sleeping_time_error)\n",
    "        # Exit if reached the max number of attempts\n",
    "        if current_attempt == max_nb_attempts:\n",
    "            print(\"Max number of attempts reached. Setting lat and lon to 0\")\n",
    "            df.loc[index,\"Latitude\"] = 0\n",
    "            df.loc[index,\"Longitude\"] = 0\n",
    "            break"
   ]
  },
  {
   "cell_type": "code",
   "execution_count": 42,
   "metadata": {
    "scrolled": true
   },
   "outputs": [
    {
     "data": {
      "text/html": [
       "<div>\n",
       "<style scoped>\n",
       "    .dataframe tbody tr th:only-of-type {\n",
       "        vertical-align: middle;\n",
       "    }\n",
       "\n",
       "    .dataframe tbody tr th {\n",
       "        vertical-align: top;\n",
       "    }\n",
       "\n",
       "    .dataframe thead th {\n",
       "        text-align: right;\n",
       "    }\n",
       "</style>\n",
       "<table border=\"1\" class=\"dataframe\">\n",
       "  <thead>\n",
       "    <tr style=\"text-align: right;\">\n",
       "      <th></th>\n",
       "      <th>Arrondissement</th>\n",
       "      <th>Name</th>\n",
       "      <th>Area (km2)</th>\n",
       "      <th>Population(March 1999 census)</th>\n",
       "      <th>Population(July 2005 estimate)</th>\n",
       "      <th>Density (2005)(inhabitants per km2)</th>\n",
       "      <th>Peak of population</th>\n",
       "      <th>Mayor</th>\n",
       "      <th>Latitude</th>\n",
       "      <th>Longitude</th>\n",
       "    </tr>\n",
       "  </thead>\n",
       "  <tbody>\n",
       "    <tr>\n",
       "      <th>0</th>\n",
       "      <td>1st (Ier) R</td>\n",
       "      <td>Louvre</td>\n",
       "      <td>1.826 km2 (0.705 sq mi)</td>\n",
       "      <td>16888</td>\n",
       "      <td>17700</td>\n",
       "      <td>9693</td>\n",
       "      <td>before 1861</td>\n",
       "      <td>Jean-François Legaret (LR)</td>\n",
       "      <td>48.861147</td>\n",
       "      <td>2.338028</td>\n",
       "    </tr>\n",
       "    <tr>\n",
       "      <th>1</th>\n",
       "      <td>2nd (IIe) R</td>\n",
       "      <td>Bourse</td>\n",
       "      <td>0.992 km2 (0.383 sq mi)</td>\n",
       "      <td>19585</td>\n",
       "      <td>20700</td>\n",
       "      <td>20867</td>\n",
       "      <td>before 1861</td>\n",
       "      <td>Jacques Boutault (EELV)</td>\n",
       "      <td>48.868630</td>\n",
       "      <td>2.341474</td>\n",
       "    </tr>\n",
       "    <tr>\n",
       "      <th>2</th>\n",
       "      <td>3rd (IIIe) R</td>\n",
       "      <td>Temple</td>\n",
       "      <td>1.171 km2 (0.452 sq mi)</td>\n",
       "      <td>34248</td>\n",
       "      <td>35100</td>\n",
       "      <td>29974</td>\n",
       "      <td>before 1861</td>\n",
       "      <td>Pierre Aidenbaum (PS)</td>\n",
       "      <td>48.866500</td>\n",
       "      <td>2.360708</td>\n",
       "    </tr>\n",
       "    <tr>\n",
       "      <th>3</th>\n",
       "      <td>4th (IVe) R</td>\n",
       "      <td>Hôtel-de-Ville</td>\n",
       "      <td>1.601 km2 (0.618 sq mi)</td>\n",
       "      <td>30675</td>\n",
       "      <td>28600</td>\n",
       "      <td>17864</td>\n",
       "      <td>before 1861</td>\n",
       "      <td>Ariel Weil (PS)</td>\n",
       "      <td>48.856426</td>\n",
       "      <td>2.352528</td>\n",
       "    </tr>\n",
       "    <tr>\n",
       "      <th>4</th>\n",
       "      <td>5th (Ve) L</td>\n",
       "      <td>Panthéon</td>\n",
       "      <td>2.541 km2 (0.981 sq mi)</td>\n",
       "      <td>58849</td>\n",
       "      <td>60600</td>\n",
       "      <td>23849</td>\n",
       "      <td>1911</td>\n",
       "      <td>Florence Berthout (LR)</td>\n",
       "      <td>48.846191</td>\n",
       "      <td>2.346079</td>\n",
       "    </tr>\n",
       "  </tbody>\n",
       "</table>\n",
       "</div>"
      ],
      "text/plain": [
       "  Arrondissement            Name               Area (km2)  \\\n",
       "0    1st (Ier) R          Louvre  1.826 km2 (0.705 sq mi)   \n",
       "1    2nd (IIe) R          Bourse  0.992 km2 (0.383 sq mi)   \n",
       "2   3rd (IIIe) R          Temple  1.171 km2 (0.452 sq mi)   \n",
       "3    4th (IVe) R  Hôtel-de-Ville  1.601 km2 (0.618 sq mi)   \n",
       "4     5th (Ve) L        Panthéon  2.541 km2 (0.981 sq mi)   \n",
       "\n",
       "   Population(March 1999 census)  Population(July 2005 estimate)  \\\n",
       "0                          16888                           17700   \n",
       "1                          19585                           20700   \n",
       "2                          34248                           35100   \n",
       "3                          30675                           28600   \n",
       "4                          58849                           60600   \n",
       "\n",
       "  Density (2005)(inhabitants per km2) Peak of population  \\\n",
       "0                                9693        before 1861   \n",
       "1                               20867        before 1861   \n",
       "2                               29974        before 1861   \n",
       "3                               17864        before 1861   \n",
       "4                               23849               1911   \n",
       "\n",
       "                        Mayor   Latitude  Longitude  \n",
       "0  Jean-François Legaret (LR)  48.861147   2.338028  \n",
       "1     Jacques Boutault (EELV)  48.868630   2.341474  \n",
       "2       Pierre Aidenbaum (PS)  48.866500   2.360708  \n",
       "3             Ariel Weil (PS)  48.856426   2.352528  \n",
       "4      Florence Berthout (LR)  48.846191   2.346079  "
      ]
     },
     "execution_count": 42,
     "metadata": {},
     "output_type": "execute_result"
    }
   ],
   "source": [
    "df.head()"
   ]
  },
  {
   "cell_type": "code",
   "execution_count": 44,
   "metadata": {
    "scrolled": true
   },
   "outputs": [
    {
     "data": {
      "text/html": [
       "<div style=\"width:100%;\"><div style=\"position:relative;width:100%;height:0;padding-bottom:60%;\"><iframe src=\"about:blank\" style=\"position:absolute;width:100%;height:100%;left:0;top:0;border:none !important;\" data-html=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 onload=\"this.contentDocument.open();this.contentDocument.write(atob(this.getAttribute('data-html')));this.contentDocument.close();\" allowfullscreen webkitallowfullscreen mozallowfullscreen></iframe></div></div>"
      ],
      "text/plain": [
       "<folium.folium.Map at 0x7ff2f7d866d8>"
      ]
     },
     "execution_count": 44,
     "metadata": {},
     "output_type": "execute_result"
    }
   ],
   "source": [
    "# create map of New York using latitude and longitude values\n",
    "map_paris = folium.Map(location=[latitude, longitude], zoom_start=12)\n",
    "\n",
    "# add markers to map\n",
    "for (lat, lng, borough, arr) in zip(df['Latitude'], df['Longitude'], df['Name'], df['Arrondissement']):\n",
    "    label = '{},{}'.format(borough, arr)\n",
    "    label = folium.Popup(label, parse_html=True)\n",
    "    folium.CircleMarker(\n",
    "        [lat, lng],\n",
    "        radius=5,\n",
    "        popup=label,\n",
    "        color='blue',\n",
    "        fill=True,\n",
    "        fill_color='#3186cc',\n",
    "        fill_opacity=0.7,\n",
    "        parse_html=False).add_to(map_paris)  \n",
    "    \n",
    "map_paris"
   ]
  },
  {
   "cell_type": "markdown",
   "metadata": {},
   "source": [
    "![alt text](map_Paris_2.png)"
   ]
  }
 ],
 "metadata": {
  "kernelspec": {
   "display_name": "Python 3",
   "language": "python",
   "name": "python3"
  },
  "language_info": {
   "codemirror_mode": {
    "name": "ipython",
    "version": 3
   },
   "file_extension": ".py",
   "mimetype": "text/x-python",
   "name": "python",
   "nbconvert_exporter": "python",
   "pygments_lexer": "ipython3",
   "version": "3.5.2"
  }
 },
 "nbformat": 4,
 "nbformat_minor": 2
}
